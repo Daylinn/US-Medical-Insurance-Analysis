{
 "cells": [
  {
   "cell_type": "markdown",
   "id": "2aa50b9d",
   "metadata": {},
   "source": [
    "# US Medical Insurance Costs Analysis\n",
    "\n",
    "In this analysis, we will explore the \"US Medical Insurance Costs\" dataset to gain insights into various aspects of medical insurance costs. We will use Python to perform the analysis and answer specific questions.\n",
    "\n",
    "## Step 1: Import Libraries"
   ]
  },
  {
   "cell_type": "code",
   "execution_count": 19,
   "id": "7bbe620e",
   "metadata": {},
   "outputs": [
    {
     "data": {
      "text/html": [
       "<div>\n",
       "<style scoped>\n",
       "    .dataframe tbody tr th:only-of-type {\n",
       "        vertical-align: middle;\n",
       "    }\n",
       "\n",
       "    .dataframe tbody tr th {\n",
       "        vertical-align: top;\n",
       "    }\n",
       "\n",
       "    .dataframe thead th {\n",
       "        text-align: right;\n",
       "    }\n",
       "</style>\n",
       "<table border=\"1\" class=\"dataframe\">\n",
       "  <thead>\n",
       "    <tr style=\"text-align: right;\">\n",
       "      <th></th>\n",
       "      <th>age</th>\n",
       "      <th>sex</th>\n",
       "      <th>bmi</th>\n",
       "      <th>children</th>\n",
       "      <th>smoker</th>\n",
       "      <th>region</th>\n",
       "      <th>charges</th>\n",
       "    </tr>\n",
       "  </thead>\n",
       "  <tbody>\n",
       "    <tr>\n",
       "      <th>0</th>\n",
       "      <td>19</td>\n",
       "      <td>female</td>\n",
       "      <td>27.900</td>\n",
       "      <td>0</td>\n",
       "      <td>yes</td>\n",
       "      <td>southwest</td>\n",
       "      <td>16884.92400</td>\n",
       "    </tr>\n",
       "    <tr>\n",
       "      <th>1</th>\n",
       "      <td>18</td>\n",
       "      <td>male</td>\n",
       "      <td>33.770</td>\n",
       "      <td>1</td>\n",
       "      <td>no</td>\n",
       "      <td>southeast</td>\n",
       "      <td>1725.55230</td>\n",
       "    </tr>\n",
       "    <tr>\n",
       "      <th>2</th>\n",
       "      <td>28</td>\n",
       "      <td>male</td>\n",
       "      <td>33.000</td>\n",
       "      <td>3</td>\n",
       "      <td>no</td>\n",
       "      <td>southeast</td>\n",
       "      <td>4449.46200</td>\n",
       "    </tr>\n",
       "    <tr>\n",
       "      <th>3</th>\n",
       "      <td>33</td>\n",
       "      <td>male</td>\n",
       "      <td>22.705</td>\n",
       "      <td>0</td>\n",
       "      <td>no</td>\n",
       "      <td>northwest</td>\n",
       "      <td>21984.47061</td>\n",
       "    </tr>\n",
       "    <tr>\n",
       "      <th>4</th>\n",
       "      <td>32</td>\n",
       "      <td>male</td>\n",
       "      <td>28.880</td>\n",
       "      <td>0</td>\n",
       "      <td>no</td>\n",
       "      <td>northwest</td>\n",
       "      <td>3866.85520</td>\n",
       "    </tr>\n",
       "  </tbody>\n",
       "</table>\n",
       "</div>"
      ],
      "text/plain": [
       "   age     sex     bmi  children smoker     region      charges\n",
       "0   19  female  27.900         0    yes  southwest  16884.92400\n",
       "1   18    male  33.770         1     no  southeast   1725.55230\n",
       "2   28    male  33.000         3     no  southeast   4449.46200\n",
       "3   33    male  22.705         0     no  northwest  21984.47061\n",
       "4   32    male  28.880         0     no  northwest   3866.85520"
      ]
     },
     "execution_count": 19,
     "metadata": {},
     "output_type": "execute_result"
    }
   ],
   "source": [
    "import pandas as pd \n",
    "import matplotlib.pyplot as plt \n",
    "import seaborn as sns\n",
    "\n",
    "insurance_data = pd.read_csv('insurance.csv')\n",
    "\n",
    "insurance_data.head()"
   ]
  },
  {
   "cell_type": "code",
   "execution_count": 24,
   "id": "d36be779",
   "metadata": {},
   "outputs": [
    {
     "name": "stdout",
     "output_type": "stream",
     "text": [
      "Average Age: 39.21\n"
     ]
    }
   ],
   "source": [
    "age = insurance_data['age']\n",
    "sex = insurance_data['sex']\n",
    "bmi = insurance_data['bmi']\n",
    "children = insurance_data['children']\n",
    "smoker = insurance_data['smoker']\n",
    "region = insurance_data['region']\n",
    "charges = insurance_data['charges']\n",
    "\n",
    "def calculate_average_age(age_data):\n",
    "    return age_data.mean()\n",
    "\n",
    "def geographical_analysis(region_data):\n",
    "    region_counts = region_data.value_counts()\n",
    "    most_common_region = region_counts.idxmax()\n",
    "    return region_counts, most_common_region\n",
    "\n",
    "average_age_result = calculate_average_age(age)\n",
    "print(f'Average Age: {average_age_result:.2f}')"
   ]
  },
  {
   "cell_type": "code",
   "execution_count": 25,
   "id": "d6aa116a",
   "metadata": {},
   "outputs": [
    {
     "name": "stdout",
     "output_type": "stream",
     "text": [
      "Most Common Region: southeast\n"
     ]
    },
    {
     "data": {
      "image/png": "[encoded data removed]",
      "text/plain": [
       "<Figure size 1000x600 with 1 Axes>"
      ]
     },
     "metadata": {},
     "output_type": "display_data"
    }
   ],
   "source": [
    "region_counts_result, most_common_region_result = geographical_analysis(region)\n",
    "print(f'Most Common Region: {most_common_region_result}')\n",
    "\n",
    "plt.figure(figsize=(10, 6))\n",
    "sns.countplot(data = insurance_data, x='region', palette='Set1')\n",
    "plt.title('Distribution of Individual by Region')\n",
    "plt.xlabel('Region')\n",
    "plt.ylabel('Count')\n",
    "plt.xticks(rotation=45)\n",
    "plt.show()"
   ]
  },
  {
   "cell_type": "code",
   "execution_count": 28,
   "id": "26f3fab5",
   "metadata": {},
   "outputs": [
    {
     "name": "stdout",
     "output_type": "stream",
     "text": [
      "Average Charges for Smokers: 32050.23\n",
      "Average Charges for Non-Smokers: 8434.27\n"
     ]
    }
   ],
   "source": [
    "smokers_data = charges[smoker == 'yes']\n",
    "non_smoker_data = charges[smoker == 'no']\n",
    "\n",
    "average_charges_smokers_result, average_charges_non_smokers_result = smokers_vs_non_smokers_analysis(smokers_data, non_smokers_data)\n",
    "\n",
    "print(f'Average Charges for Smokers: {average_charges_smokers_result:.2f}')\n",
    "print(f'Average Charges for Non-Smokers: {average_charges_non_smokers_result:.2f}')"
   ]
  },
  {
   "cell_type": "code",
   "execution_count": 29,
   "id": "deff401a",
   "metadata": {},
   "outputs": [
    {
     "name": "stdout",
     "output_type": "stream",
     "text": [
      "Average Age for Parents: 39.78\n"
     ]
    }
   ],
   "source": [
    "parents_data = age[children > 0]\n",
    "averaeg_age_for_parents_result = average_age_for_parents_analysis(parents_data)\n",
    "print(f'Average Age for Parents: {float(average_age_for_parents_result):.2f}')"
   ]
  },
  {
   "cell_type": "code",
   "execution_count": 30,
   "id": "6eb15264",
   "metadata": {},
   "outputs": [],
   "source": [
    "analysis_results = {\n",
    "    \"Average Age\": average_age_result,\n",
    "    \"Geographical Analysis\": {\n",
    "        \"Region Counts\": region_counts_result,\n",
    "        \"Most Common Region\": most_common_region_result\n",
    "    },\n",
    "    \"Smokers vs. Non-Smokers Analysis\": {\n",
    "        \"Average Charges for Smokers\": average_charges_smokers_result,\n",
    "        \"Average Charges for Non-Smokers\": average_charges_non_smokers_result\n",
    "    },\n",
    "    \"Average Age for Parents\": float(average_age_for_parents_result)\n",
    "}"
   ]
  },
  {
   "cell_type": "code",
   "execution_count": 31,
   "id": "f2774788",
   "metadata": {},
   "outputs": [],
   "source": [
    "from sklearn.linear_model import LinearRegression\n",
    "\n",
    "x = insurance_data[['age', 'bmi', 'children']] \n",
    "y = insurance_data['charges']\n",
    "\n",
    "model = LinearRegression()\n",
    "model.fit(X, y)\n",
    "\n",
    "feature_coefficients = dict(zip(X.columns, model.coef_))\n",
    "\n",
    "gender_charges = insurance_data.groupby('sex')['charges'].mean()"
   ]
  },
  {
   "cell_type": "code",
   "execution_count": null,
   "id": "4fc1c22f",
   "metadata": {},
   "outputs": [],
   "source": []
  }
 ],
 "metadata": {
  "kernelspec": {
   "display_name": "Python 3 (ipykernel)",
   "language": "python",
   "name": "python3"
  },
  "language_info": {
   "codemirror_mode": {
    "name": "ipython",
    "version": 3
   },
   "file_extension": ".py",
   "mimetype": "text/x-python",
   "name": "python",
   "nbconvert_exporter": "python",
   "pygments_lexer": "ipython3",
   "version": "3.11.4"
  }
 },
 "nbformat": 4,
 "nbformat_minor": 5
}
